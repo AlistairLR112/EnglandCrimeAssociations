{
 "cells": [
  {
   "cell_type": "markdown",
   "metadata": {},
   "source": [
    "# England Crime Association Rules\n",
    "The aim here is to see if there are any associations between the reported aspects of crime, such as Month of Year, Location, Crime type etc.\n",
    "This will be done in Pyspark due to the size of the data but it will still be possible to execute on a local cluster.\n",
    "\n",
    "The data can be downloaded from here: https://data.police.uk/data/.\n",
    "\n",
    "The date range for this data is September 2015 - August 2018 and all constabularies in England were selected (excluding British Transport Police)"
   ]
  },
  {
   "cell_type": "code",
   "execution_count": 328,
   "metadata": {},
   "outputs": [],
   "source": [
    "import glob\n",
    "import os\n",
    "import calendar\n",
    "import pandas as pd\n",
    "import matplotlib.pyplot as plt"
   ]
  },
  {
   "cell_type": "markdown",
   "metadata": {},
   "source": [
    "#### Set up Spark\n",
    "Running Spark locally"
   ]
  },
  {
   "cell_type": "code",
   "execution_count": 329,
   "metadata": {},
   "outputs": [],
   "source": [
    "from pyspark import SparkContext\n",
    "from pyspark.ml.fpm import FPGrowth\n",
    "from pyspark.sql import SQLContext, SparkSession"
   ]
  },
  {
   "cell_type": "code",
   "execution_count": 330,
   "metadata": {},
   "outputs": [],
   "source": [
    "spark = SparkSession.builder\\\n",
    "        .master(\"local\")\\\n",
    "        .appName(\"Crime Assocations\")\\\n",
    "        .getOrCreate()"
   ]
  },
  {
   "cell_type": "code",
   "execution_count": 331,
   "metadata": {},
   "outputs": [],
   "source": [
    "sc = spark.sparkContext"
   ]
  },
  {
   "cell_type": "code",
   "execution_count": 332,
   "metadata": {},
   "outputs": [],
   "source": [
    "# Set up a SQL Context\n",
    "sqlCtx = SQLContext(sc)"
   ]
  },
  {
   "cell_type": "code",
   "execution_count": 176,
   "metadata": {},
   "outputs": [],
   "source": [
    "#sc.stop()"
   ]
  },
  {
   "cell_type": "markdown",
   "metadata": {},
   "source": [
    "## Load Data into Spark"
   ]
  },
  {
   "cell_type": "code",
   "execution_count": 333,
   "metadata": {},
   "outputs": [],
   "source": [
    "import pyspark.sql.functions as F"
   ]
  },
  {
   "cell_type": "markdown",
   "metadata": {},
   "source": [
    "The police data comes in several csv files with a folder for each Month-Year. We will concatenate these"
   ]
  },
  {
   "cell_type": "code",
   "execution_count": 334,
   "metadata": {},
   "outputs": [],
   "source": [
    "# Using a glob here to get all of the locations of the files we need\n",
    "file_locations = glob.glob(os.getcwd() + \"/all_data/*/*.csv\")"
   ]
  },
  {
   "cell_type": "code",
   "execution_count": 335,
   "metadata": {},
   "outputs": [],
   "source": [
    "police_data_df = sqlCtx.read.format(\"csv\").option(\"header\", \"true\").load(file_locations)"
   ]
  },
  {
   "cell_type": "markdown",
   "metadata": {},
   "source": [
    "#### Inspecting the data"
   ]
  },
  {
   "cell_type": "code",
   "execution_count": 184,
   "metadata": {},
   "outputs": [
    {
     "name": "stdout",
     "output_type": "stream",
     "text": [
      "+--------------------+-------+--------------------+--------------------+---------+---------+--------------------+---------+--------------------+--------------------+---------------------+-------+\n",
      "|            Crime ID|  Month|         Reported by|        Falls within|Longitude| Latitude|            Location|LSOA code|           LSOA name|          Crime type|Last outcome category|Context|\n",
      "+--------------------+-------+--------------------+--------------------+---------+---------+--------------------+---------+--------------------+--------------------+---------------------+-------+\n",
      "|5ac3055389bf0d7f7...|2017-07|Metropolitan Poli...|Metropolitan Poli...| 0.763024|51.210698|On or near Wind H...|E01024033|        Ashford 002E|         Other theft| Investigation com...|   null|\n",
      "|db2ba97b31d87e77e...|2017-07|Metropolitan Poli...|Metropolitan Poli...| 1.185594|52.000179|On or near Main Road|E01029873|        Babergh 011B|        Public order| Investigation com...|   null|\n",
      "|                null|2017-07|Metropolitan Poli...|Metropolitan Poli...| 0.135866|51.587336|On or near Gibbfi...|E01000027|Barking and Dagen...|Anti-social behav...|                 null|   null|\n",
      "|                null|2017-07|Metropolitan Poli...|Metropolitan Poli...| 0.140035|51.589112|On or near Beansl...|E01000027|Barking and Dagen...|Anti-social behav...|                 null|   null|\n",
      "|                null|2017-07|Metropolitan Poli...|Metropolitan Poli...| 0.140035|51.589112|On or near Beansl...|E01000027|Barking and Dagen...|Anti-social behav...|                 null|   null|\n",
      "+--------------------+-------+--------------------+--------------------+---------+---------+--------------------+---------+--------------------+--------------------+---------------------+-------+\n",
      "only showing top 5 rows\n",
      "\n"
     ]
    }
   ],
   "source": [
    "police_data_df.show(5)"
   ]
  },
  {
   "cell_type": "code",
   "execution_count": 185,
   "metadata": {},
   "outputs": [
    {
     "name": "stdout",
     "output_type": "stream",
     "text": [
      "root\n",
      " |-- Crime ID: string (nullable = true)\n",
      " |-- Month: string (nullable = true)\n",
      " |-- Reported by: string (nullable = true)\n",
      " |-- Falls within: string (nullable = true)\n",
      " |-- Longitude: string (nullable = true)\n",
      " |-- Latitude: string (nullable = true)\n",
      " |-- Location: string (nullable = true)\n",
      " |-- LSOA code: string (nullable = true)\n",
      " |-- LSOA name: string (nullable = true)\n",
      " |-- Crime type: string (nullable = true)\n",
      " |-- Last outcome category: string (nullable = true)\n",
      " |-- Context: string (nullable = true)\n",
      "\n"
     ]
    }
   ],
   "source": [
    "police_data_df.printSchema()"
   ]
  },
  {
   "cell_type": "code",
   "execution_count": 209,
   "metadata": {},
   "outputs": [],
   "source": [
    "num_rows = police_data_df.count()"
   ]
  },
  {
   "cell_type": "code",
   "execution_count": 210,
   "metadata": {},
   "outputs": [
    {
     "data": {
      "text/plain": [
       "18376429"
      ]
     },
     "execution_count": 210,
     "metadata": {},
     "output_type": "execute_result"
    }
   ],
   "source": [
    "num_rows"
   ]
  },
  {
   "cell_type": "markdown",
   "metadata": {},
   "source": [
    "## Cleaning the Data"
   ]
  },
  {
   "cell_type": "code",
   "execution_count": 336,
   "metadata": {},
   "outputs": [],
   "source": [
    "# The month column in the data is actually a Year-Month, here we will split that on the - delimiter and create a Year and Month_of_Year Column\n",
    "month_year_split = F.split(police_data_df['Month'], '-')\n",
    "police_data_df = police_data_df.withColumn('Year', month_year_split.getItem(0))\\\n",
    "                .withColumn('Month_of_Year', month_year_split.getItem(1))"
   ]
  },
  {
   "cell_type": "code",
   "execution_count": 337,
   "metadata": {},
   "outputs": [],
   "source": [
    "# Ensure that both of the new columns created are integer and not string types\n",
    "police_data_df = police_data_df.withColumn(\"Month_of_Year\", police_data_df.Month_of_Year.cast(\"int\"))\n",
    "police_data_df = police_data_df.withColumn(\"Year\", police_data_df.Year.cast(\"int\"))"
   ]
  },
  {
   "cell_type": "code",
   "execution_count": 338,
   "metadata": {},
   "outputs": [
    {
     "data": {
      "text/plain": [
       "DataFrame[Crime ID: string, Month: string, Reported by: string, Falls within: string, Longitude: string, Latitude: string, Location: string, LSOA code: string, LSOA name: string, Crime type: string, Last outcome category: string, Context: string, Year: int, Month_of_Year: int]"
      ]
     },
     "execution_count": 338,
     "metadata": {},
     "output_type": "execute_result"
    }
   ],
   "source": [
    "# Check this worked\n",
    "police_data_df"
   ]
  },
  {
   "cell_type": "code",
   "execution_count": 339,
   "metadata": {},
   "outputs": [],
   "source": [
    "# In order to convert the month from a number representing the month index, this function has been created to map that index\n",
    "# to its 3 letter abbreviation\n",
    "get_month_name = F.udf(lambda x: calendar.month_abbr[x])"
   ]
  },
  {
   "cell_type": "code",
   "execution_count": 340,
   "metadata": {},
   "outputs": [],
   "source": [
    "# Apply get_month_name to the Month of Year Column\n",
    "police_data_df = police_data_df.withColumn(\"Month_of_Year\", get_month_name(police_data_df[\"Month_of_Year\"]))"
   ]
  },
  {
   "cell_type": "code",
   "execution_count": 341,
   "metadata": {},
   "outputs": [],
   "source": [
    "# Now remove the On or near part of the string in Location as it adds no information\n",
    "police_data_df = police_data_df.withColumn('Location', F.regexp_replace('Location', 'On or near ', ''))"
   ]
  },
  {
   "cell_type": "markdown",
   "metadata": {},
   "source": [
    "## Exploratory Analysis"
   ]
  },
  {
   "cell_type": "code",
   "execution_count": 202,
   "metadata": {},
   "outputs": [],
   "source": [
    "# Look at most common crimes\n",
    "crime_type_counts = police_data_df\\\n",
    "                    .groupBy(police_data_df['Crime type'])\\\n",
    "                    .count()\\\n",
    "                    .sort(F.col(\"count\").desc())\\\n",
    "                    .toPandas()"
   ]
  },
  {
   "cell_type": "code",
   "execution_count": 218,
   "metadata": {},
   "outputs": [],
   "source": [
    "crime_type_counts_series = crime_type_counts.set_index(\"Crime type\").squeeze()\n",
    "crime_type_counts_series = crime_type_counts_series*100/num_rows"
   ]
  },
  {
   "cell_type": "code",
   "execution_count": 219,
   "metadata": {},
   "outputs": [
    {
     "data": {
      "image/png": "[encoded data removed]",
      "text/plain": [
       "<Figure size 720x360 with 1 Axes>"
      ]
     },
     "metadata": {},
     "output_type": "display_data"
    }
   ],
   "source": [
    "plt.figure(figsize=(10, 5))\n",
    "crime_type_counts_series.plot(kind = \"bar\")\n",
    "plt.show()"
   ]
  },
  {
   "cell_type": "markdown",
   "metadata": {},
   "source": [
    "Anti-social behaviour makes up about 27% of crime in England - which is expected... It is concerning that violence and sexual offences is in second place"
   ]
  },
  {
   "cell_type": "code",
   "execution_count": 220,
   "metadata": {},
   "outputs": [],
   "source": [
    "# Find the areas where crime occurs the most\n",
    "crime_area_counts = police_data_df\\\n",
    "                    .groupBy(police_data_df['LSOA name'])\\\n",
    "                    .count()\\\n",
    "                    .sort(F.col(\"count\").desc())\\\n",
    "                    .toPandas()"
   ]
  },
  {
   "cell_type": "code",
   "execution_count": 225,
   "metadata": {},
   "outputs": [],
   "source": [
    "crime_area_counts_series = crime_area_counts.set_index(\"LSOA name\").squeeze().head(15)"
   ]
  },
  {
   "cell_type": "code",
   "execution_count": 231,
   "metadata": {},
   "outputs": [
    {
     "data": {
      "image/png": "[encoded data removed]",
      "text/plain": [
       "<Figure size 720x360 with 1 Axes>"
      ]
     },
     "metadata": {},
     "output_type": "display_data"
    }
   ],
   "source": [
    "plt.figure(figsize=(10, 5))\n",
    "crime_area_counts_series.plot(kind = \"bar\")\n",
    "plt.show()"
   ]
  },
  {
   "cell_type": "markdown",
   "metadata": {},
   "source": [
    "There appear to be a large amount of NAs, so let's look at the distribution without that"
   ]
  },
  {
   "cell_type": "code",
   "execution_count": 236,
   "metadata": {},
   "outputs": [
    {
     "data": {
      "image/png": "[encoded data removed]",
      "text/plain": [
       "<Figure size 720x360 with 1 Axes>"
      ]
     },
     "metadata": {},
     "output_type": "display_data"
    }
   ],
   "source": [
    "plt.figure(figsize=(10, 5))\n",
    "crime_area_counts_series[1:].plot(kind = \"bar\", color=\"k\")\n",
    "plt.show()"
   ]
  },
  {
   "cell_type": "markdown",
   "metadata": {},
   "source": [
    "Deansgate, Manchester is Manchester 054C, don't go there"
   ]
  },
  {
   "cell_type": "code",
   "execution_count": 275,
   "metadata": {},
   "outputs": [],
   "source": [
    "# Find the months where the most crimes have occurred\n",
    "crime_month_counts = police_data_df\\\n",
    "                    .groupBy(police_data_df['Month_of_Year'])\\\n",
    "                    .count()\\\n",
    "                    .sort(F.col(\"count\").desc())\\\n",
    "                    .toPandas()"
   ]
  },
  {
   "cell_type": "code",
   "execution_count": 276,
   "metadata": {},
   "outputs": [],
   "source": [
    "# Convert Month_of_Year to a categorical variable\n",
    "crime_month_counts[\"Month_of_Year\"] = pd.Categorical(crime_month_counts[\"Month_of_Year\"], \n",
    "                                                     categories=[\"Jan\", \"Feb\", \"Mar\", \"Apr\", \"May\", \"Jun\",\n",
    "                                                                \"Jul\", \"Aug\", \"Sep\", \"Oct\", \"Nov\", \"Dec\"])"
   ]
  },
  {
   "cell_type": "code",
   "execution_count": 277,
   "metadata": {},
   "outputs": [],
   "source": [
    "crime_month_counts_series = crime_month_counts\\\n",
    "                            .sort_values(by=\"Month_of_Year\")\\\n",
    "                            .set_index(\"Month_of_Year\")\\\n",
    "                            .squeeze()"
   ]
  },
  {
   "cell_type": "code",
   "execution_count": 278,
   "metadata": {},
   "outputs": [
    {
     "data": {
      "image/png": "[encoded data removed]",
      "text/plain": [
       "<Figure size 1080x360 with 1 Axes>"
      ]
     },
     "metadata": {},
     "output_type": "display_data"
    }
   ],
   "source": [
    "plt.figure(figsize=(15, 5))\n",
    "ax = crime_month_counts_series.plot(kind = \"line\", color=\"b\")\n",
    "ax.set_xticks(range(0, len(crime_month_counts_series.index)))\n",
    "ax.set_xticklabels(list(crime_month_counts_series.index), rotation=45)\n",
    "plt.show()"
   ]
  },
  {
   "cell_type": "markdown",
   "metadata": {},
   "source": [
    "Lets find out what the NAs are being caused by"
   ]
  },
  {
   "cell_type": "code",
   "execution_count": 279,
   "metadata": {},
   "outputs": [],
   "source": [
    "null_lsoa = police_data_df\\\n",
    "                    .where(police_data_df[\"LSOA name\"].isNull())"
   ]
  },
  {
   "cell_type": "code",
   "execution_count": 289,
   "metadata": {},
   "outputs": [
    {
     "data": {
      "text/plain": [
       "0.018709130049151552"
      ]
     },
     "execution_count": 289,
     "metadata": {},
     "output_type": "execute_result"
    }
   ],
   "source": [
    "null_lsoa.count()/num_rows"
   ]
  },
  {
   "cell_type": "markdown",
   "metadata": {},
   "source": [
    "So only about two percent of the data has no location information, we can exclude this"
   ]
  },
  {
   "cell_type": "markdown",
   "metadata": {},
   "source": [
    "## Feature Engineering & Modelling"
   ]
  },
  {
   "cell_type": "code",
   "execution_count": 342,
   "metadata": {},
   "outputs": [],
   "source": [
    "# Remove the crimes with no crime ID and no LSOA Information.\n",
    "police_data_modelling = police_data_df.filter(police_data_df[\"Crime ID\"].isNotNull() & police_data_df[\"LSOA name\"].isNotNull())\n",
    "# Select the Features of interest\n",
    "police_data_modelling = police_data_modelling[[\"Falls within\", \"Location\", \"LSOA name\", \"Crime type\", \"Last outcome category\", \"Month_of_Year\"]]"
   ]
  },
  {
   "cell_type": "code",
   "execution_count": 343,
   "metadata": {},
   "outputs": [
    {
     "name": "stdout",
     "output_type": "stream",
     "text": [
      "+--------------------+--------------+--------------------+-------------+---------------------+-------------+\n",
      "|        Falls within|      Location|           LSOA name|   Crime type|Last outcome category|Month_of_Year|\n",
      "+--------------------+--------------+--------------------+-------------+---------------------+-------------+\n",
      "|Metropolitan Poli...|Wind Hill Lane|        Ashford 002E|  Other theft| Investigation com...|          Jul|\n",
      "|Metropolitan Poli...|     Main Road|        Babergh 011B| Public order| Investigation com...|          Jul|\n",
      "|Metropolitan Poli...|   Hazel Grove|Barking and Dagen...|Bicycle theft| Status update una...|          Jul|\n",
      "+--------------------+--------------+--------------------+-------------+---------------------+-------------+\n",
      "only showing top 3 rows\n",
      "\n"
     ]
    }
   ],
   "source": [
    "police_data_modelling.show(3)"
   ]
  },
  {
   "cell_type": "markdown",
   "metadata": {},
   "source": [
    "The FP growth algorithm (like association rules), needs the items to be concatenated into a list/array of \"transactions\"."
   ]
  },
  {
   "cell_type": "code",
   "execution_count": 344,
   "metadata": {},
   "outputs": [],
   "source": [
    "police_item_set = police_data_modelling.withColumn(\"items\", F.array(police_data_modelling[\"Falls within\"],\n",
    "                                                                    police_data_modelling[\"Location\"],\n",
    "                                                                    police_data_modelling[\"LSOA name\"],\n",
    "                                                                    police_data_modelling[\"Crime type\"],\n",
    "                                                                    police_data_modelling[\"Last outcome category\"],\n",
    "                                                                    police_data_modelling[\"Month_of_Year\"]))\n",
    "police_item_set = police_item_set.select(\"items\")\n",
    "police_item_set = police_item_set.withColumn(\"id\", F.monotonically_increasing_id())"
   ]
  },
  {
   "cell_type": "code",
   "execution_count": 345,
   "metadata": {},
   "outputs": [
    {
     "name": "stdout",
     "output_type": "stream",
     "text": [
      "+--------------------+---+\n",
      "|               items| id|\n",
      "+--------------------+---+\n",
      "|[Metropolitan Pol...|  0|\n",
      "|[Metropolitan Pol...|  1|\n",
      "|[Metropolitan Pol...|  2|\n",
      "|[Metropolitan Pol...|  3|\n",
      "|[Metropolitan Pol...|  4|\n",
      "|[Metropolitan Pol...|  5|\n",
      "|[Metropolitan Pol...|  6|\n",
      "|[Metropolitan Pol...|  7|\n",
      "|[Metropolitan Pol...|  8|\n",
      "|[Metropolitan Pol...|  9|\n",
      "|[Metropolitan Pol...| 10|\n",
      "|[Metropolitan Pol...| 11|\n",
      "|[Metropolitan Pol...| 12|\n",
      "|[Metropolitan Pol...| 13|\n",
      "|[Metropolitan Pol...| 14|\n",
      "|[Metropolitan Pol...| 15|\n",
      "|[Metropolitan Pol...| 16|\n",
      "|[Metropolitan Pol...| 17|\n",
      "|[Metropolitan Pol...| 18|\n",
      "|[Metropolitan Pol...| 19|\n",
      "+--------------------+---+\n",
      "only showing top 20 rows\n",
      "\n"
     ]
    }
   ],
   "source": [
    "police_item_set.show()"
   ]
  },
  {
   "cell_type": "markdown",
   "metadata": {},
   "source": [
    "## Modelling: Create the FP growth algorithm\n",
    "For Association rules"
   ]
  },
  {
   "cell_type": "code",
   "execution_count": 346,
   "metadata": {},
   "outputs": [
    {
     "data": {
      "text/plain": [
       "183764.29"
      ]
     },
     "execution_count": 346,
     "metadata": {},
     "output_type": "execute_result"
    }
   ],
   "source": [
    "int(0.01*num_rows)"
   ]
  },
  {
   "cell_type": "code",
   "execution_count": 347,
   "metadata": {},
   "outputs": [],
   "source": [
    "# Use a low support as we have a large dataset\n",
    "fpGrowth = FPGrowth(itemsCol=\"items\", minSupport=0.01, minConfidence=0.5)\n",
    "model = fpGrowth.fit(police_item_set)"
   ]
  },
  {
   "cell_type": "code",
   "execution_count": 348,
   "metadata": {},
   "outputs": [],
   "source": [
    "model.save('crime_association_rules')"
   ]
  },
  {
   "cell_type": "code",
   "execution_count": 349,
   "metadata": {},
   "outputs": [
    {
     "name": "stdout",
     "output_type": "stream",
     "text": [
      "+--------------------+-------+\n",
      "|               items|   freq|\n",
      "+--------------------+-------+\n",
      "|[Investigation co...|5891360|\n",
      "|[Violence and sex...|4044715|\n",
      "|[Violence and sex...| 870331|\n",
      "|[Unable to prosec...|2584597|\n",
      "|[Unable to prosec...|1606798|\n",
      "|[Metropolitan Pol...|2332585|\n",
      "|[Metropolitan Pol...| 633002|\n",
      "|[Metropolitan Pol...| 359959|\n",
      "|[Metropolitan Pol...|1018701|\n",
      "|[Status update un...|1673528|\n",
      "|[Status update un...| 495868|\n",
      "|[Status update un...| 769943|\n",
      "|[Criminal damage ...|1660452|\n",
      "|[Criminal damage ...| 208735|\n",
      "|[Criminal damage ...| 163639|\n",
      "|[Criminal damage ...| 181178|\n",
      "|[Criminal damage ...|1040286|\n",
      "|       [Other theft]|1478664|\n",
      "|[Other theft, Una...| 161679|\n",
      "|[Other theft, Sta...| 207261|\n",
      "+--------------------+-------+\n",
      "only showing top 20 rows\n",
      "\n"
     ]
    }
   ],
   "source": [
    "# Display frequent itemsets.\n",
    "model.freqItemsets.show()"
   ]
  },
  {
   "cell_type": "code",
   "execution_count": 350,
   "metadata": {},
   "outputs": [],
   "source": [
    "# Display generated association rules.\n",
    "rules = model.associationRules"
   ]
  },
  {
   "cell_type": "code",
   "execution_count": 352,
   "metadata": {},
   "outputs": [
    {
     "name": "stdout",
     "output_type": "stream",
     "text": [
      "+-----------------------------------------------------------+-----------------------------------------------+------------------+\n",
      "|antecedent                                                 |consequent                                     |confidence        |\n",
      "+-----------------------------------------------------------+-----------------------------------------------+------------------+\n",
      "|[Vehicle crime]                                            |[Investigation complete; no suspect identified]|0.7025339145608448|\n",
      "|[Nottinghamshire Police]                                   |[Investigation complete; no suspect identified]|0.5031396256585671|\n",
      "|[West Yorkshire Police, Unable to prosecute suspect]       |[Violence and sexual offences]                 |0.6077604018402373|\n",
      "|[Vehicle crime, Metropolitan Police Service]               |[Status update unavailable]                    |0.5814401324385522|\n",
      "|[Northumbria Police]                                       |[Investigation complete; no suspect identified]|0.5288024061072212|\n",
      "|[West Yorkshire Police, Violence and sexual offences]      |[Unable to prosecute suspect]                  |0.5780507615986584|\n",
      "|[Other theft]                                              |[Investigation complete; no suspect identified]|0.6443891242364729|\n",
      "|[Burglary]                                                 |[Investigation complete; no suspect identified]|0.7059772913894159|\n",
      "|[Criminal damage and arson]                                |[Investigation complete; no suspect identified]|0.6265077219937704|\n",
      "|[Jun, Unable to prosecute suspect]                         |[Violence and sexual offences]                 |0.6230002735017615|\n",
      "|[Mar, Unable to prosecute suspect]                         |[Violence and sexual offences]                 |0.6212513750757694|\n",
      "|[Petrol Station]                                           |[Investigation complete; no suspect identified]|0.5818037460301583|\n",
      "|[Bicycle theft]                                            |[Investigation complete; no suspect identified]|0.7261707438073739|\n",
      "|[Thames Valley Police]                                     |[Investigation complete; no suspect identified]|0.5040529243752675|\n",
      "|[Metropolitan Police Service, Violence and sexual offences]|[Investigation complete; no suspect identified]|0.5686538115203428|\n",
      "|[Avon and Somerset Constabulary]                           |[Status update unavailable]                    |0.5053206612241582|\n",
      "|[Greater Manchester Police]                                |[Investigation complete; no suspect identified]|0.5852261498228214|\n",
      "|[Jul, Unable to prosecute suspect]                         |[Violence and sexual offences]                 |0.6218482147689003|\n",
      "|[Theft from the person]                                    |[Investigation complete; no suspect identified]|0.5979440164912662|\n",
      "|[West Midlands Police]                                     |[Investigation complete; no suspect identified]|0.596107625844654 |\n",
      "+-----------------------------------------------------------+-----------------------------------------------+------------------+\n",
      "only showing top 20 rows\n",
      "\n"
     ]
    }
   ],
   "source": [
    "# Show all of the association rules\n",
    "rules.show(truncate=False)"
   ]
  },
  {
   "cell_type": "markdown",
   "metadata": {},
   "source": [
    "So what does this mean? The highest confidence rule is (Bicycle Theft -> Investigation complete; no suspect identified). This means that 73% of the time, when a Bike theft occured, no suspect was found.\n",
    "\n",
    "The second and third highest confidence rules give similar statements about burglary and vehicle crime.\n",
    "\n",
    "Another interesting set of rules are where there are crimes where the suspect was unable to be prosecuted in March, June and July \"implies\" that it is likely (around 62% of the time) to be a Violence and/or sexual offence."
   ]
  },
  {
   "cell_type": "code",
   "execution_count": 305,
   "metadata": {},
   "outputs": [],
   "source": [
    "#' Minor tidying to save as csv\n",
    "rules_df = rules.withColumn(\"antecedent\" ,F.concat_ws(\",\", rules[\"antecedent\"]))\\\n",
    "          .withColumn(\"consequent\" ,F.concat_ws(\",\", rules[\"consequent\"]))"
   ]
  },
  {
   "cell_type": "code",
   "execution_count": 310,
   "metadata": {},
   "outputs": [],
   "source": [
    "rules_df.write.csv('crime_rules.csv')"
   ]
  },
  {
   "cell_type": "code",
   "execution_count": 353,
   "metadata": {},
   "outputs": [],
   "source": [
    "sc.stop()"
   ]
  }
 ],
 "metadata": {
  "kernelspec": {
   "display_name": "Python 3",
   "language": "python",
   "name": "python3"
  },
  "language_info": {
   "codemirror_mode": {
    "name": "ipython",
    "version": 3
   },
   "file_extension": ".py",
   "mimetype": "text/x-python",
   "name": "python",
   "nbconvert_exporter": "python",
   "pygments_lexer": "ipython3",
   "version": "3.6.5"
  }
 },
 "nbformat": 4,
 "nbformat_minor": 2
}
