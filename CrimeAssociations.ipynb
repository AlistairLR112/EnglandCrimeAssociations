{
 "cells": [
  {
   "cell_type": "markdown",
   "metadata": {},
   "source": [
    "# Association Rule Mining for reported Crimes in England\n",
    "The aim here is to see if there are any associations between the reported aspects of crime, such as Month of Year, Location, Crime type etc.\n",
    "This will be done in Pyspark due to the size of the data but it will still be possible to execute on a local cluster.\n",
    "\n",
    "The data can be downloaded from here: https://data.police.uk/data/.\n",
    "\n",
    "The date range for this data is September 2015 - August 2018 and all constabularies in England were selected (excluding British Transport Police)"
   ]
  },
  {
   "cell_type": "markdown",
   "metadata": {},
   "source": [
    "## What is an Association Rule?\n",
    "*Association rule learning is a rule-based machine learning method for discovering interesting relations between variables in large databases. It is intended to identify strong rules discovered in databases using some measures of interestingness. This rule-based approach also generates new rules as it analyzes more data. The ultimate goal, assuming a large enough dataset, is to help a machine mimic the human brain’s feature extraction and abstract association capabilities from new uncategorized data.*\n",
    "\n",
    "We will be looking for rules with a high level of confidence\n",
    "\n",
    "*Confidence is an indication of how often the rule has been found to be true... Confidence can be interpreted as an estimate of the conditional probability*"
   ]
  },
  {
   "cell_type": "code",
   "execution_count": 1,
   "metadata": {},
   "outputs": [],
   "source": [
    "import glob\n",
    "import os\n",
    "import calendar\n",
    "import pandas as pd\n",
    "import matplotlib.pyplot as plt"
   ]
  },
  {
   "cell_type": "markdown",
   "metadata": {},
   "source": [
    "#### Set up Spark\n",
    "Running Spark locally"
   ]
  },
  {
   "cell_type": "code",
   "execution_count": 2,
   "metadata": {},
   "outputs": [],
   "source": [
    "from pyspark import SparkContext\n",
    "from pyspark.ml.fpm import FPGrowth\n",
    "from pyspark.sql import SQLContext, SparkSession"
   ]
  },
  {
   "cell_type": "code",
   "execution_count": 3,
   "metadata": {},
   "outputs": [],
   "source": [
    "spark = SparkSession.builder\\\n",
    "        .master(\"local\")\\\n",
    "        .appName(\"Crime Assocations\")\\\n",
    "        .getOrCreate()"
   ]
  },
  {
   "cell_type": "code",
   "execution_count": 4,
   "metadata": {},
   "outputs": [],
   "source": [
    "sc = spark.sparkContext\n",
    "# Set up a SQL Context\n",
    "sqlCtx = SQLContext(sc)"
   ]
  },
  {
   "cell_type": "code",
   "execution_count": 25,
   "metadata": {},
   "outputs": [],
   "source": [
    "#sc.stop()"
   ]
  },
  {
   "cell_type": "markdown",
   "metadata": {},
   "source": [
    "## Load Data into Spark"
   ]
  },
  {
   "cell_type": "code",
   "execution_count": 5,
   "metadata": {},
   "outputs": [],
   "source": [
    "import pyspark.sql.functions as F"
   ]
  },
  {
   "cell_type": "markdown",
   "metadata": {},
   "source": [
    "The police data comes in several csv files with a folder for each Month-Year. Within each folder, there is a CSV file for each constabulary. We will concatenate these"
   ]
  },
  {
   "cell_type": "code",
   "execution_count": 6,
   "metadata": {},
   "outputs": [],
   "source": [
    "# Using a glob here to get all of the locations of the files we need\n",
    "file_locations = glob.glob(os.getcwd() + \"/all_data/*/*.csv\")"
   ]
  },
  {
   "cell_type": "code",
   "execution_count": 7,
   "metadata": {},
   "outputs": [],
   "source": [
    "police_data_df = sqlCtx.read.format(\"csv\").option(\"header\", \"true\").load(file_locations)"
   ]
  },
  {
   "cell_type": "markdown",
   "metadata": {},
   "source": [
    "#### Inspecting the data"
   ]
  },
  {
   "cell_type": "code",
   "execution_count": 9,
   "metadata": {},
   "outputs": [
    {
     "name": "stdout",
     "output_type": "stream",
     "text": [
      "+--------------------+-------+--------------------+--------------------+---------+---------+--------------------+---------+--------------------+--------------------+---------------------+-------+\n",
      "|            Crime ID|  Month|         Reported by|        Falls within|Longitude| Latitude|            Location|LSOA code|           LSOA name|          Crime type|Last outcome category|Context|\n",
      "+--------------------+-------+--------------------+--------------------+---------+---------+--------------------+---------+--------------------+--------------------+---------------------+-------+\n",
      "|5ac3055389bf0d7f7...|2017-07|Metropolitan Poli...|Metropolitan Poli...| 0.763024|51.210698|On or near Wind H...|E01024033|        Ashford 002E|         Other theft| Investigation com...|   null|\n",
      "|db2ba97b31d87e77e...|2017-07|Metropolitan Poli...|Metropolitan Poli...| 1.185594|52.000179|On or near Main Road|E01029873|        Babergh 011B|        Public order| Investigation com...|   null|\n",
      "|                null|2017-07|Metropolitan Poli...|Metropolitan Poli...| 0.135866|51.587336|On or near Gibbfi...|E01000027|Barking and Dagen...|Anti-social behav...|                 null|   null|\n",
      "|                null|2017-07|Metropolitan Poli...|Metropolitan Poli...| 0.140035|51.589112|On or near Beansl...|E01000027|Barking and Dagen...|Anti-social behav...|                 null|   null|\n",
      "|                null|2017-07|Metropolitan Poli...|Metropolitan Poli...| 0.140035|51.589112|On or near Beansl...|E01000027|Barking and Dagen...|Anti-social behav...|                 null|   null|\n",
      "+--------------------+-------+--------------------+--------------------+---------+---------+--------------------+---------+--------------------+--------------------+---------------------+-------+\n",
      "only showing top 5 rows\n",
      "\n"
     ]
    }
   ],
   "source": [
    "police_data_df.show(5)"
   ]
  },
  {
   "cell_type": "markdown",
   "metadata": {},
   "source": [
    "Each dataset contains the following columns:"
   ]
  },
  {
   "cell_type": "code",
   "execution_count": 10,
   "metadata": {},
   "outputs": [
    {
     "name": "stdout",
     "output_type": "stream",
     "text": [
      "root\n",
      " |-- Crime ID: string (nullable = true)\n",
      " |-- Month: string (nullable = true)\n",
      " |-- Reported by: string (nullable = true)\n",
      " |-- Falls within: string (nullable = true)\n",
      " |-- Longitude: string (nullable = true)\n",
      " |-- Latitude: string (nullable = true)\n",
      " |-- Location: string (nullable = true)\n",
      " |-- LSOA code: string (nullable = true)\n",
      " |-- LSOA name: string (nullable = true)\n",
      " |-- Crime type: string (nullable = true)\n",
      " |-- Last outcome category: string (nullable = true)\n",
      " |-- Context: string (nullable = true)\n",
      "\n"
     ]
    }
   ],
   "source": [
    "police_data_df.printSchema()"
   ]
  },
  {
   "cell_type": "markdown",
   "metadata": {},
   "source": [
    "The Data Dictionary is as follows"
   ]
  },
  {
   "cell_type": "code",
   "execution_count": 40,
   "metadata": {},
   "outputs": [],
   "source": [
    "dictionary = pd.read_csv('data_dictionary.csv')"
   ]
  },
  {
   "cell_type": "code",
   "execution_count": 45,
   "metadata": {},
   "outputs": [
    {
     "data": {
      "text/html": [
       "<div>\n",
       "<style scoped>\n",
       "    .dataframe tbody tr th:only-of-type {\n",
       "        vertical-align: middle;\n",
       "    }\n",
       "\n",
       "    .dataframe tbody tr th {\n",
       "        vertical-align: top;\n",
       "    }\n",
       "\n",
       "    .dataframe thead th {\n",
       "        text-align: right;\n",
       "    }\n",
       "</style>\n",
       "<table border=\"1\" class=\"dataframe\">\n",
       "  <thead>\n",
       "    <tr style=\"text-align: right;\">\n",
       "      <th></th>\n",
       "      <th>Field</th>\n",
       "      <th>Meaning</th>\n",
       "    </tr>\n",
       "  </thead>\n",
       "  <tbody>\n",
       "    <tr>\n",
       "      <th>0</th>\n",
       "      <td>Reported by</td>\n",
       "      <td>The force that provided the data about the crime.</td>\n",
       "    </tr>\n",
       "    <tr>\n",
       "      <th>1</th>\n",
       "      <td>Falls within</td>\n",
       "      <td>At present, also the force that provided the data about the crime. This is currently being looked into and is likely to change in the near future.</td>\n",
       "    </tr>\n",
       "    <tr>\n",
       "      <th>2</th>\n",
       "      <td>Longitude and Latitude</td>\n",
       "      <td>The anonymised coordinates of the crime. See Location Anonymisation for more information.</td>\n",
       "    </tr>\n",
       "    <tr>\n",
       "      <th>3</th>\n",
       "      <td>LSOA code and LSOA name</td>\n",
       "      <td>References to the Lower Layer Super Output Area that the anonymised point falls into, according to the LSOA boundaries provided by the Office for National Statistics.</td>\n",
       "    </tr>\n",
       "    <tr>\n",
       "      <th>4</th>\n",
       "      <td>Crime type</td>\n",
       "      <td>One of the crime types listed in the Police.UK FAQ.</td>\n",
       "    </tr>\n",
       "    <tr>\n",
       "      <th>5</th>\n",
       "      <td>Last outcome category</td>\n",
       "      <td>A reference to whichever of the outcomes associated with the crime occurred most recently. For example, this crime's 'Last outcome category' would be 'Formal action is not in the public interest'.</td>\n",
       "    </tr>\n",
       "    <tr>\n",
       "      <th>6</th>\n",
       "      <td>Context</td>\n",
       "      <td>A field provided for forces to provide additional human-readable data about individual crimes. Currently, for newly added CSVs, this is always empty.</td>\n",
       "    </tr>\n",
       "  </tbody>\n",
       "</table>\n",
       "</div>"
      ],
      "text/plain": [
       "                     Field  \\\n",
       "0  Reported by               \n",
       "1  Falls within              \n",
       "2  Longitude and Latitude    \n",
       "3  LSOA code and LSOA name   \n",
       "4  Crime type                \n",
       "5  Last outcome category     \n",
       "6  Context                   \n",
       "\n",
       "                                                                                                                                                                                                Meaning  \n",
       "0  The force that provided the data about the crime.                                                                                                                                                     \n",
       "1  At present, also the force that provided the data about the crime. This is currently being looked into and is likely to change in the near future.                                                    \n",
       "2  The anonymised coordinates of the crime. See Location Anonymisation for more information.                                                                                                             \n",
       "3  References to the Lower Layer Super Output Area that the anonymised point falls into, according to the LSOA boundaries provided by the Office for National Statistics.                                \n",
       "4  One of the crime types listed in the Police.UK FAQ.                                                                                                                                                   \n",
       "5  A reference to whichever of the outcomes associated with the crime occurred most recently. For example, this crime's 'Last outcome category' would be 'Formal action is not in the public interest'.  \n",
       "6  A field provided for forces to provide additional human-readable data about individual crimes. Currently, for newly added CSVs, this is always empty.                                                 "
      ]
     },
     "execution_count": 45,
     "metadata": {},
     "output_type": "execute_result"
    }
   ],
   "source": [
    "pd.set_option('display.max_colwidth', -1)\n",
    "dictionary"
   ]
  },
  {
   "cell_type": "markdown",
   "metadata": {},
   "source": [
    "NOTE: LSOA (Lower Layer Super Output Area)\n",
    "\n",
    "From NHS Data Dictionary (https://www.datadictionary.nhs.uk/data_dictionary/nhs_business_definitions/l/lower_layer_super_output_area_de.asp?shownav=1)\n",
    "    \n",
    "\"<i>A Lower Layer Super Output Area (LSOA) is a GEOGRAPHIC AREA.\n",
    "Lower Layer Super Output Areas are a geographic hierarchy designed to improve the reporting of small area statistics in England and Wales.\n",
    "Lower Layer Super Output Areas are built from groups of contiguous Output Areas and have been automatically generated to be as consistent in population size as possible, and typically contain from four to six Output Areas. The Minimum population is 1000 and the mean is 1500.\n",
    "There is a Lower Layer Super Output Area for each POSTCODE in England and Wales</i>\""
   ]
  },
  {
   "cell_type": "markdown",
   "metadata": {},
   "source": [
    "How many Rows do we have?"
   ]
  },
  {
   "cell_type": "code",
   "execution_count": 13,
   "metadata": {},
   "outputs": [],
   "source": [
    "num_rows = police_data_df.count()"
   ]
  },
  {
   "cell_type": "code",
   "execution_count": 14,
   "metadata": {},
   "outputs": [
    {
     "data": {
      "text/plain": [
       "18376429"
      ]
     },
     "execution_count": 14,
     "metadata": {},
     "output_type": "execute_result"
    }
   ],
   "source": [
    "num_rows"
   ]
  },
  {
   "cell_type": "markdown",
   "metadata": {},
   "source": [
    "## Cleaning the Data"
   ]
  },
  {
   "cell_type": "code",
   "execution_count": 8,
   "metadata": {},
   "outputs": [],
   "source": [
    "# The month column in the data is actually a Year-Month, here we will split that on the - delimiter and create a Year and Month_of_Year Column\n",
    "month_year_split = F.split(police_data_df['Month'], '-')\n",
    "police_data_df = police_data_df.withColumn('Year', month_year_split.getItem(0))\\\n",
    "                .withColumn('Month_of_Year', month_year_split.getItem(1))"
   ]
  },
  {
   "cell_type": "code",
   "execution_count": 9,
   "metadata": {},
   "outputs": [],
   "source": [
    "# Ensure that both of the new columns created are integer and not string types\n",
    "police_data_df = police_data_df.withColumn(\"Month_of_Year\", police_data_df.Month_of_Year.cast(\"int\"))\n",
    "police_data_df = police_data_df.withColumn(\"Year\", police_data_df.Year.cast(\"int\"))"
   ]
  },
  {
   "cell_type": "code",
   "execution_count": 10,
   "metadata": {},
   "outputs": [
    {
     "name": "stdout",
     "output_type": "stream",
     "text": [
      "root\n",
      " |-- Crime ID: string (nullable = true)\n",
      " |-- Month: string (nullable = true)\n",
      " |-- Reported by: string (nullable = true)\n",
      " |-- Falls within: string (nullable = true)\n",
      " |-- Longitude: string (nullable = true)\n",
      " |-- Latitude: string (nullable = true)\n",
      " |-- Location: string (nullable = true)\n",
      " |-- LSOA code: string (nullable = true)\n",
      " |-- LSOA name: string (nullable = true)\n",
      " |-- Crime type: string (nullable = true)\n",
      " |-- Last outcome category: string (nullable = true)\n",
      " |-- Context: string (nullable = true)\n",
      " |-- Year: integer (nullable = true)\n",
      " |-- Month_of_Year: integer (nullable = true)\n",
      "\n"
     ]
    }
   ],
   "source": [
    "# Check this worked\n",
    "police_data_df.printSchema()"
   ]
  },
  {
   "cell_type": "code",
   "execution_count": 11,
   "metadata": {},
   "outputs": [],
   "source": [
    "# In order to convert the month from a number representing the month index, this function has been created to map that index\n",
    "# to its 3 letter abbreviation\n",
    "get_month_name = F.udf(lambda x: calendar.month_abbr[x])"
   ]
  },
  {
   "cell_type": "code",
   "execution_count": 12,
   "metadata": {},
   "outputs": [],
   "source": [
    "# Apply get_month_name to the Month of Year Column\n",
    "police_data_df = police_data_df.withColumn(\"Month_of_Year\", get_month_name(police_data_df[\"Month_of_Year\"]))"
   ]
  },
  {
   "cell_type": "code",
   "execution_count": 13,
   "metadata": {},
   "outputs": [],
   "source": [
    "# Now remove the On or near part of the string in Location as it adds no information\n",
    "police_data_df = police_data_df.withColumn('Location', F.regexp_replace('Location', 'On or near ', ''))"
   ]
  },
  {
   "cell_type": "code",
   "execution_count": 14,
   "metadata": {},
   "outputs": [],
   "source": [
    "police_data_df = police_data_df.withColumn(\"Town_City\", F.regexp_replace('LSOA name', ' [0-9]{3}\\w', ''))"
   ]
  },
  {
   "cell_type": "code",
   "execution_count": 15,
   "metadata": {},
   "outputs": [
    {
     "data": {
      "text/plain": [
       "[Row(Crime ID='5ac3055389bf0d7f7598892a8835ce3b3a2745218bde6f9d16de014ee837ec1e', Month='2017-07', Reported by='Metropolitan Police Service', Falls within='Metropolitan Police Service', Longitude='0.763024', Latitude='51.210698', Location='Wind Hill Lane', LSOA code='E01024033', LSOA name='Ashford 002E', Crime type='Other theft', Last outcome category='Investigation complete; no suspect identified', Context=None, Year=2017, Month_of_Year='Jul', Town_City='Ashford')]"
      ]
     },
     "execution_count": 15,
     "metadata": {},
     "output_type": "execute_result"
    }
   ],
   "source": [
    "police_data_df.take(1)"
   ]
  },
  {
   "cell_type": "markdown",
   "metadata": {},
   "source": [
    "## Exploratory Analysis"
   ]
  },
  {
   "cell_type": "markdown",
   "metadata": {},
   "source": [
    "#### Number of Incidents over time"
   ]
  },
  {
   "cell_type": "code",
   "execution_count": 23,
   "metadata": {},
   "outputs": [],
   "source": [
    "crime_over_time = police_data_df\\\n",
    "                 .groupBy([\"Month_of_Year\", \"Year\"])\\\n",
    "                 .count()\\\n",
    "                 .toPandas()"
   ]
  },
  {
   "cell_type": "code",
   "execution_count": 39,
   "metadata": {},
   "outputs": [],
   "source": [
    "months = map(lambda x: calendar.month_abbr[x], range(1, 13))\n",
    "crime_over_time[\"Month_of_Year\"] = pd.Categorical(crime_over_time[\"Month_of_Year\"], categories=months)\n",
    "crime_time_series = crime_over_time.set_index([\"Year\", \"Month_of_Year\"]).sort_index().squeeze()"
   ]
  },
  {
   "cell_type": "code",
   "execution_count": 49,
   "metadata": {},
   "outputs": [
    {
     "data": {
      "image/png": "[encoded data removed]",
      "text/plain": [
       "<Figure size 1440x360 with 1 Axes>"
      ]
     },
     "metadata": {},
     "output_type": "display_data"
    }
   ],
   "source": [
    "plt.figure(figsize=(20, 5))\n",
    "ax = crime_time_series.plot(kind = \"line\", color=\"b\")\n",
    "ax.set_xticks(range(0, len(crime_time_series.index)))\n",
    "ax.set_xticklabels(list(crime_time_series.index))\n",
    "crime_time_series.plot(rot=90)\n",
    "plt.show()"
   ]
  },
  {
   "cell_type": "code",
   "execution_count": null,
   "metadata": {},
   "outputs": [],
   "source": [
    "There isn'"
   ]
  },
  {
   "cell_type": "markdown",
   "metadata": {},
   "source": [
    "#### Most Common Crime and Outcome Category Combination"
   ]
  },
  {
   "cell_type": "code",
   "execution_count": 24,
   "metadata": {},
   "outputs": [],
   "source": [
    "outcome_counts = police_data_df\\\n",
    "                 .groupBy([\"Crime type\", \"Last outcome category\"])\\\n",
    "                 .count()\\\n",
    "                 .toPandas()"
   ]
  },
  {
   "cell_type": "code",
   "execution_count": 31,
   "metadata": {},
   "outputs": [],
   "source": [
    "outcome_counts_series = outcome_counts\\\n",
    ".set_index([\"Crime type\", \"Last outcome category\"])\\\n",
    ".squeeze()\\\n",
    ".sort_values(ascending=False)\\\n",
    ".head(20)"
   ]
  },
  {
   "cell_type": "code",
   "execution_count": 34,
   "metadata": {},
   "outputs": [
    {
     "data": {
      "text/plain": [
       "<matplotlib.axes._subplots.AxesSubplot at 0x1158f2828>"
      ]
     },
     "execution_count": 34,
     "metadata": {},
     "output_type": "execute_result"
    },
    {
     "data": {
      "image/png": "[encoded data removed]",
      "text/plain": [
       "<Figure size 720x720 with 1 Axes>"
      ]
     },
     "metadata": {},
     "output_type": "display_data"
    }
   ],
   "source": [
    "outcome_counts_series\\\n",
    ".sort_values(ascending=True)\\\n",
    ".plot(kind=\"barh\", figsize=(10,10))"
   ]
  },
  {
   "cell_type": "markdown",
   "metadata": {},
   "source": [
    "#### The Most Common Type of Crime"
   ]
  },
  {
   "cell_type": "code",
   "execution_count": 202,
   "metadata": {},
   "outputs": [],
   "source": [
    "crime_type_counts = police_data_df\\\n",
    "                    .groupBy(police_data_df['Crime type'])\\\n",
    "                    .count()\\\n",
    "                    .sort(F.col(\"count\").desc())\\\n",
    "                    .toPandas()"
   ]
  },
  {
   "cell_type": "code",
   "execution_count": 218,
   "metadata": {},
   "outputs": [],
   "source": [
    "crime_type_counts_series = crime_type_counts.set_index(\"Crime type\").squeeze()\n",
    "crime_type_counts_series = crime_type_counts_series*100/num_rows"
   ]
  },
  {
   "cell_type": "code",
   "execution_count": 219,
   "metadata": {},
   "outputs": [
    {
     "data": {
      "image/png": "[encoded data removed]",
      "text/plain": [
       "<Figure size 720x360 with 1 Axes>"
      ]
     },
     "metadata": {},
     "output_type": "display_data"
    }
   ],
   "source": [
    "plt.figure(figsize=(10, 5))\n",
    "crime_type_counts_series.plot(kind = \"bar\")\n",
    "plt.show()"
   ]
  },
  {
   "cell_type": "markdown",
   "metadata": {},
   "source": [
    "Anti-social behaviour makes up about 27% of crime in England - which is expected... It is concerning that violence and sexual offences is in second place"
   ]
  },
  {
   "cell_type": "markdown",
   "metadata": {},
   "source": [
    "#### Which Town or City has the most crime?"
   ]
  },
  {
   "cell_type": "code",
   "execution_count": 36,
   "metadata": {},
   "outputs": [],
   "source": [
    "crime_town_city_counts = police_data_df\\\n",
    "                    .groupBy(police_data_df['Town_City'])\\\n",
    "                    .count()\\\n",
    "                    .sort(F.col(\"count\").desc())\\\n",
    "                    .toPandas()"
   ]
  },
  {
   "cell_type": "code",
   "execution_count": null,
   "metadata": {},
   "outputs": [],
   "source": [
    "crime_town_city_counts ## TO BE COMPLETED"
   ]
  },
  {
   "cell_type": "markdown",
   "metadata": {},
   "source": [
    "There appear to be a large amount of NAs....\n",
    "Lets find out what the NAs are being caused by"
   ]
  },
  {
   "cell_type": "code",
   "execution_count": 279,
   "metadata": {},
   "outputs": [],
   "source": [
    "null_lsoa = police_data_df\\\n",
    "                    .where(police_data_df[\"LSOA name\"].isNull())"
   ]
  },
  {
   "cell_type": "code",
   "execution_count": 289,
   "metadata": {},
   "outputs": [
    {
     "data": {
      "text/plain": [
       "0.018709130049151552"
      ]
     },
     "execution_count": 289,
     "metadata": {},
     "output_type": "execute_result"
    }
   ],
   "source": [
    "null_lsoa.count()/num_rows"
   ]
  },
  {
   "cell_type": "markdown",
   "metadata": {},
   "source": [
    "So only about two percent of the data has no location information, we can exclude this"
   ]
  },
  {
   "cell_type": "markdown",
   "metadata": {},
   "source": [
    "## Feature Engineering & Modelling"
   ]
  },
  {
   "cell_type": "code",
   "execution_count": 16,
   "metadata": {},
   "outputs": [],
   "source": [
    "# Remove the crimes with no crime ID and no LSOA Information.\n",
    "police_data_modelling = police_data_df.filter(police_data_df[\"Crime ID\"].isNotNull() & police_data_df[\"LSOA name\"].isNotNull())\n",
    "# Select the Features of interest\n",
    "police_data_modelling = police_data_modelling[[\"Falls within\", \"Town_City\", \"Crime type\", \"Last outcome category\", \"Month_of_Year\"]]"
   ]
  },
  {
   "cell_type": "code",
   "execution_count": 42,
   "metadata": {},
   "outputs": [
    {
     "name": "stdout",
     "output_type": "stream",
     "text": [
      "+--------------------+--------------------+-------------+---------------------+-------------+\n",
      "|        Falls within|           Town_City|   Crime type|Last outcome category|Month_of_Year|\n",
      "+--------------------+--------------------+-------------+---------------------+-------------+\n",
      "|Metropolitan Poli...|             Ashford|  Other theft| Investigation com...|          Jul|\n",
      "|Metropolitan Poli...|             Babergh| Public order| Investigation com...|          Jul|\n",
      "|Metropolitan Poli...|Barking and Dagenham|Bicycle theft| Status update una...|          Jul|\n",
      "+--------------------+--------------------+-------------+---------------------+-------------+\n",
      "only showing top 3 rows\n",
      "\n"
     ]
    }
   ],
   "source": [
    "police_data_modelling.show(3)"
   ]
  },
  {
   "cell_type": "markdown",
   "metadata": {},
   "source": [
    "The FP growth algorithm (like association rules), needs the items to be concatenated into a list/array of \"transactions\"."
   ]
  },
  {
   "cell_type": "code",
   "execution_count": 17,
   "metadata": {},
   "outputs": [],
   "source": [
    "police_item_set = police_data_modelling.withColumn(\"items\", F.array(police_data_modelling[\"Falls within\"],\n",
    "                                                                    police_data_modelling[\"Town_City\"],\n",
    "                                                                    police_data_modelling[\"Crime type\"],\n",
    "                                                                    police_data_modelling[\"Last outcome category\"],\n",
    "                                                                    police_data_modelling[\"Month_of_Year\"]))\n",
    "police_item_set = police_item_set.select(\"items\")\n",
    "police_item_set = police_item_set.withColumn(\"id\", F.monotonically_increasing_id())"
   ]
  },
  {
   "cell_type": "code",
   "execution_count": 44,
   "metadata": {},
   "outputs": [
    {
     "name": "stdout",
     "output_type": "stream",
     "text": [
      "+-------------------------------------------------------------------------------------------------------------------------------------+---+\n",
      "|items                                                                                                                                |id |\n",
      "+-------------------------------------------------------------------------------------------------------------------------------------+---+\n",
      "|[Metropolitan Police Service, Ashford, Other theft, Investigation complete; no suspect identified, Jul]                              |0  |\n",
      "|[Metropolitan Police Service, Babergh, Public order, Investigation complete; no suspect identified, Jul]                             |1  |\n",
      "|[Metropolitan Police Service, Barking and Dagenham, Bicycle theft, Status update unavailable, Jul]                                   |2  |\n",
      "|[Metropolitan Police Service, Barking and Dagenham, Burglary, Investigation complete; no suspect identified, Jul]                    |3  |\n",
      "|[Metropolitan Police Service, Barking and Dagenham, Burglary, Status update unavailable, Jul]                                        |4  |\n",
      "|[Metropolitan Police Service, Barking and Dagenham, Criminal damage and arson, Investigation complete; no suspect identified, Jul]   |5  |\n",
      "|[Metropolitan Police Service, Barking and Dagenham, Criminal damage and arson, Investigation complete; no suspect identified, Jul]   |6  |\n",
      "|[Metropolitan Police Service, Barking and Dagenham, Other theft, Status update unavailable, Jul]                                     |7  |\n",
      "|[Metropolitan Police Service, Barking and Dagenham, Other theft, Status update unavailable, Jul]                                     |8  |\n",
      "|[Metropolitan Police Service, Barking and Dagenham, Other theft, Status update unavailable, Jul]                                     |9  |\n",
      "|[Metropolitan Police Service, Barking and Dagenham, Public order, Investigation complete; no suspect identified, Jul]                |10 |\n",
      "|[Metropolitan Police Service, Barking and Dagenham, Public order, Status update unavailable, Jul]                                    |11 |\n",
      "|[Metropolitan Police Service, Barking and Dagenham, Public order, Investigation complete; no suspect identified, Jul]                |12 |\n",
      "|[Metropolitan Police Service, Barking and Dagenham, Public order, Investigation complete; no suspect identified, Jul]                |13 |\n",
      "|[Metropolitan Police Service, Barking and Dagenham, Robbery, Investigation complete; no suspect identified, Jul]                     |14 |\n",
      "|[Metropolitan Police Service, Barking and Dagenham, Robbery, Investigation complete; no suspect identified, Jul]                     |15 |\n",
      "|[Metropolitan Police Service, Barking and Dagenham, Robbery, Status update unavailable, Jul]                                         |16 |\n",
      "|[Metropolitan Police Service, Barking and Dagenham, Robbery, Investigation complete; no suspect identified, Jul]                     |17 |\n",
      "|[Metropolitan Police Service, Barking and Dagenham, Violence and sexual offences, Investigation complete; no suspect identified, Jul]|18 |\n",
      "|[Metropolitan Police Service, Barking and Dagenham, Violence and sexual offences, Investigation complete; no suspect identified, Jul]|19 |\n",
      "+-------------------------------------------------------------------------------------------------------------------------------------+---+\n",
      "only showing top 20 rows\n",
      "\n"
     ]
    }
   ],
   "source": [
    "police_item_set.show(truncate=False)"
   ]
  },
  {
   "cell_type": "markdown",
   "metadata": {},
   "source": [
    "## Modelling: Create the FP growth algorithm\n",
    "For Association rules"
   ]
  },
  {
   "cell_type": "code",
   "execution_count": 23,
   "metadata": {},
   "outputs": [],
   "source": [
    "# Use a low support as we have a large dataset\n",
    "fpGrowth = FPGrowth(itemsCol=\"items\", minSupport=0.01, minConfidence=0.6)\n",
    "model = fpGrowth.fit(police_item_set)\n",
    "rules = model.associationRules"
   ]
  },
  {
   "cell_type": "markdown",
   "metadata": {},
   "source": [
    "#### Extract the Association Rules"
   ]
  },
  {
   "cell_type": "code",
   "execution_count": 24,
   "metadata": {},
   "outputs": [],
   "source": [
    "#' Minor tidying to save as pandas dataframe\n",
    "rules_df = rules.withColumn(\"antecedent\" ,F.concat_ws(\",\", rules[\"antecedent\"]))\\\n",
    "          .withColumn(\"consequent\" ,F.concat_ws(\",\", rules[\"consequent\"]))\\\n",
    "          .sort(F.col(\"confidence\"))"
   ]
  },
  {
   "cell_type": "code",
   "execution_count": 25,
   "metadata": {},
   "outputs": [],
   "source": [
    "rules_df_pd = rules_df.toPandas()"
   ]
  },
  {
   "cell_type": "code",
   "execution_count": 26,
   "metadata": {},
   "outputs": [
    {
     "data": {
      "text/html": [
       "<div>\n",
       "<style scoped>\n",
       "    .dataframe tbody tr th:only-of-type {\n",
       "        vertical-align: middle;\n",
       "    }\n",
       "\n",
       "    .dataframe tbody tr th {\n",
       "        vertical-align: top;\n",
       "    }\n",
       "\n",
       "    .dataframe thead th {\n",
       "        text-align: right;\n",
       "    }\n",
       "</style>\n",
       "<table border=\"1\" class=\"dataframe\">\n",
       "  <thead>\n",
       "    <tr style=\"text-align: right;\">\n",
       "      <th></th>\n",
       "      <th>antecedent</th>\n",
       "      <th>consequent</th>\n",
       "      <th>confidence</th>\n",
       "    </tr>\n",
       "  </thead>\n",
       "  <tbody>\n",
       "    <tr>\n",
       "      <th>0</th>\n",
       "      <td>Birmingham</td>\n",
       "      <td>Investigation complete; no suspect identified</td>\n",
       "      <td>0.605648</td>\n",
       "    </tr>\n",
       "    <tr>\n",
       "      <th>1</th>\n",
       "      <td>Birmingham,West Midlands Police</td>\n",
       "      <td>Investigation complete; no suspect identified</td>\n",
       "      <td>0.606086</td>\n",
       "    </tr>\n",
       "    <tr>\n",
       "      <th>2</th>\n",
       "      <td>West Yorkshire Police,Unable to prosecute suspect</td>\n",
       "      <td>Violence and sexual offences</td>\n",
       "      <td>0.607760</td>\n",
       "    </tr>\n",
       "    <tr>\n",
       "      <th>3</th>\n",
       "      <td>Apr,Unable to prosecute suspect</td>\n",
       "      <td>Violence and sexual offences</td>\n",
       "      <td>0.617650</td>\n",
       "    </tr>\n",
       "    <tr>\n",
       "      <th>4</th>\n",
       "      <td>Mar,Unable to prosecute suspect</td>\n",
       "      <td>Violence and sexual offences</td>\n",
       "      <td>0.621251</td>\n",
       "    </tr>\n",
       "    <tr>\n",
       "      <th>5</th>\n",
       "      <td>Unable to prosecute suspect</td>\n",
       "      <td>Violence and sexual offences</td>\n",
       "      <td>0.621682</td>\n",
       "    </tr>\n",
       "    <tr>\n",
       "      <th>6</th>\n",
       "      <td>Jul,Unable to prosecute suspect</td>\n",
       "      <td>Violence and sexual offences</td>\n",
       "      <td>0.621848</td>\n",
       "    </tr>\n",
       "    <tr>\n",
       "      <th>7</th>\n",
       "      <td>May,Unable to prosecute suspect</td>\n",
       "      <td>Violence and sexual offences</td>\n",
       "      <td>0.622494</td>\n",
       "    </tr>\n",
       "    <tr>\n",
       "      <th>8</th>\n",
       "      <td>Jun,Unable to prosecute suspect</td>\n",
       "      <td>Violence and sexual offences</td>\n",
       "      <td>0.623000</td>\n",
       "    </tr>\n",
       "    <tr>\n",
       "      <th>9</th>\n",
       "      <td>Criminal damage and arson</td>\n",
       "      <td>Investigation complete; no suspect identified</td>\n",
       "      <td>0.626508</td>\n",
       "    </tr>\n",
       "    <tr>\n",
       "      <th>10</th>\n",
       "      <td>Manchester</td>\n",
       "      <td>Investigation complete; no suspect identified</td>\n",
       "      <td>0.641456</td>\n",
       "    </tr>\n",
       "    <tr>\n",
       "      <th>11</th>\n",
       "      <td>Manchester,Greater Manchester Police</td>\n",
       "      <td>Investigation complete; no suspect identified</td>\n",
       "      <td>0.641596</td>\n",
       "    </tr>\n",
       "    <tr>\n",
       "      <th>12</th>\n",
       "      <td>Other theft</td>\n",
       "      <td>Investigation complete; no suspect identified</td>\n",
       "      <td>0.644389</td>\n",
       "    </tr>\n",
       "    <tr>\n",
       "      <th>13</th>\n",
       "      <td>Vehicle crime</td>\n",
       "      <td>Investigation complete; no suspect identified</td>\n",
       "      <td>0.702534</td>\n",
       "    </tr>\n",
       "    <tr>\n",
       "      <th>14</th>\n",
       "      <td>Burglary</td>\n",
       "      <td>Investigation complete; no suspect identified</td>\n",
       "      <td>0.705977</td>\n",
       "    </tr>\n",
       "    <tr>\n",
       "      <th>15</th>\n",
       "      <td>Bicycle theft</td>\n",
       "      <td>Investigation complete; no suspect identified</td>\n",
       "      <td>0.726171</td>\n",
       "    </tr>\n",
       "    <tr>\n",
       "      <th>16</th>\n",
       "      <td>Vehicle crime,Status update unavailable</td>\n",
       "      <td>Metropolitan Police Service</td>\n",
       "      <td>0.774634</td>\n",
       "    </tr>\n",
       "    <tr>\n",
       "      <th>17</th>\n",
       "      <td>Birmingham</td>\n",
       "      <td>West Midlands Police</td>\n",
       "      <td>0.998351</td>\n",
       "    </tr>\n",
       "    <tr>\n",
       "      <th>18</th>\n",
       "      <td>Sheffield</td>\n",
       "      <td>South Yorkshire Police</td>\n",
       "      <td>0.998930</td>\n",
       "    </tr>\n",
       "    <tr>\n",
       "      <th>19</th>\n",
       "      <td>Leeds</td>\n",
       "      <td>West Yorkshire Police</td>\n",
       "      <td>0.999067</td>\n",
       "    </tr>\n",
       "    <tr>\n",
       "      <th>20</th>\n",
       "      <td>Birmingham,Investigation complete; no suspect ...</td>\n",
       "      <td>West Midlands Police</td>\n",
       "      <td>0.999073</td>\n",
       "    </tr>\n",
       "    <tr>\n",
       "      <th>21</th>\n",
       "      <td>Westminster</td>\n",
       "      <td>Metropolitan Police Service</td>\n",
       "      <td>0.999508</td>\n",
       "    </tr>\n",
       "    <tr>\n",
       "      <th>22</th>\n",
       "      <td>Bradford</td>\n",
       "      <td>West Yorkshire Police</td>\n",
       "      <td>0.999553</td>\n",
       "    </tr>\n",
       "    <tr>\n",
       "      <th>23</th>\n",
       "      <td>Liverpool</td>\n",
       "      <td>Merseyside Police</td>\n",
       "      <td>0.999558</td>\n",
       "    </tr>\n",
       "    <tr>\n",
       "      <th>24</th>\n",
       "      <td>Bristol</td>\n",
       "      <td>Avon and Somerset Constabulary</td>\n",
       "      <td>0.999614</td>\n",
       "    </tr>\n",
       "    <tr>\n",
       "      <th>25</th>\n",
       "      <td>Manchester</td>\n",
       "      <td>Greater Manchester Police</td>\n",
       "      <td>0.999700</td>\n",
       "    </tr>\n",
       "    <tr>\n",
       "      <th>26</th>\n",
       "      <td>Manchester,Investigation complete; no suspect ...</td>\n",
       "      <td>Greater Manchester Police</td>\n",
       "      <td>0.999919</td>\n",
       "    </tr>\n",
       "  </tbody>\n",
       "</table>\n",
       "</div>"
      ],
      "text/plain": [
       "                                           antecedent  \\\n",
       "0                                          Birmingham   \n",
       "1                     Birmingham,West Midlands Police   \n",
       "2   West Yorkshire Police,Unable to prosecute suspect   \n",
       "3                     Apr,Unable to prosecute suspect   \n",
       "4                     Mar,Unable to prosecute suspect   \n",
       "5                         Unable to prosecute suspect   \n",
       "6                     Jul,Unable to prosecute suspect   \n",
       "7                     May,Unable to prosecute suspect   \n",
       "8                     Jun,Unable to prosecute suspect   \n",
       "9                           Criminal damage and arson   \n",
       "10                                         Manchester   \n",
       "11               Manchester,Greater Manchester Police   \n",
       "12                                        Other theft   \n",
       "13                                      Vehicle crime   \n",
       "14                                           Burglary   \n",
       "15                                      Bicycle theft   \n",
       "16            Vehicle crime,Status update unavailable   \n",
       "17                                         Birmingham   \n",
       "18                                          Sheffield   \n",
       "19                                              Leeds   \n",
       "20  Birmingham,Investigation complete; no suspect ...   \n",
       "21                                        Westminster   \n",
       "22                                           Bradford   \n",
       "23                                          Liverpool   \n",
       "24                                            Bristol   \n",
       "25                                         Manchester   \n",
       "26  Manchester,Investigation complete; no suspect ...   \n",
       "\n",
       "                                       consequent  confidence  \n",
       "0   Investigation complete; no suspect identified    0.605648  \n",
       "1   Investigation complete; no suspect identified    0.606086  \n",
       "2                    Violence and sexual offences    0.607760  \n",
       "3                    Violence and sexual offences    0.617650  \n",
       "4                    Violence and sexual offences    0.621251  \n",
       "5                    Violence and sexual offences    0.621682  \n",
       "6                    Violence and sexual offences    0.621848  \n",
       "7                    Violence and sexual offences    0.622494  \n",
       "8                    Violence and sexual offences    0.623000  \n",
       "9   Investigation complete; no suspect identified    0.626508  \n",
       "10  Investigation complete; no suspect identified    0.641456  \n",
       "11  Investigation complete; no suspect identified    0.641596  \n",
       "12  Investigation complete; no suspect identified    0.644389  \n",
       "13  Investigation complete; no suspect identified    0.702534  \n",
       "14  Investigation complete; no suspect identified    0.705977  \n",
       "15  Investigation complete; no suspect identified    0.726171  \n",
       "16                    Metropolitan Police Service    0.774634  \n",
       "17                           West Midlands Police    0.998351  \n",
       "18                         South Yorkshire Police    0.998930  \n",
       "19                          West Yorkshire Police    0.999067  \n",
       "20                           West Midlands Police    0.999073  \n",
       "21                    Metropolitan Police Service    0.999508  \n",
       "22                          West Yorkshire Police    0.999553  \n",
       "23                              Merseyside Police    0.999558  \n",
       "24                 Avon and Somerset Constabulary    0.999614  \n",
       "25                      Greater Manchester Police    0.999700  \n",
       "26                      Greater Manchester Police    0.999919  "
      ]
     },
     "execution_count": 26,
     "metadata": {},
     "output_type": "execute_result"
    }
   ],
   "source": [
    "rules_df_pd"
   ]
  },
  {
   "cell_type": "code",
   "execution_count": 28,
   "metadata": {},
   "outputs": [],
   "source": [
    "rules_df_pd.to_csv('crime_associations.csv')"
   ]
  },
  {
   "cell_type": "code",
   "execution_count": 29,
   "metadata": {},
   "outputs": [],
   "source": [
    "# Stop the Spark Session\n",
    "sc.stop()"
   ]
  },
  {
   "cell_type": "markdown",
   "metadata": {},
   "source": [
    "## Rules Analysis\n",
    "As you can see, the rules in the 98%+ confidence region appear to be rules that don't really tell us anything. i.e. Birmingham -> West Midlands Police. Let's remove those from the analysis"
   ]
  },
  {
   "cell_type": "code",
   "execution_count": 37,
   "metadata": {},
   "outputs": [],
   "source": [
    "useful_rules_df = rules_df_pd[rules_df_pd['confidence'] < 0.98]\\\n",
    "    .sort_values(by=\"confidence\", ascending = False)"
   ]
  },
  {
   "cell_type": "code",
   "execution_count": 38,
   "metadata": {},
   "outputs": [
    {
     "data": {
      "text/html": [
       "<div>\n",
       "<style scoped>\n",
       "    .dataframe tbody tr th:only-of-type {\n",
       "        vertical-align: middle;\n",
       "    }\n",
       "\n",
       "    .dataframe tbody tr th {\n",
       "        vertical-align: top;\n",
       "    }\n",
       "\n",
       "    .dataframe thead th {\n",
       "        text-align: right;\n",
       "    }\n",
       "</style>\n",
       "<table border=\"1\" class=\"dataframe\">\n",
       "  <thead>\n",
       "    <tr style=\"text-align: right;\">\n",
       "      <th></th>\n",
       "      <th>antecedent</th>\n",
       "      <th>consequent</th>\n",
       "      <th>confidence</th>\n",
       "    </tr>\n",
       "  </thead>\n",
       "  <tbody>\n",
       "    <tr>\n",
       "      <th>16</th>\n",
       "      <td>Vehicle crime,Status update unavailable</td>\n",
       "      <td>Metropolitan Police Service</td>\n",
       "      <td>0.774634</td>\n",
       "    </tr>\n",
       "    <tr>\n",
       "      <th>15</th>\n",
       "      <td>Bicycle theft</td>\n",
       "      <td>Investigation complete; no suspect identified</td>\n",
       "      <td>0.726171</td>\n",
       "    </tr>\n",
       "    <tr>\n",
       "      <th>14</th>\n",
       "      <td>Burglary</td>\n",
       "      <td>Investigation complete; no suspect identified</td>\n",
       "      <td>0.705977</td>\n",
       "    </tr>\n",
       "    <tr>\n",
       "      <th>13</th>\n",
       "      <td>Vehicle crime</td>\n",
       "      <td>Investigation complete; no suspect identified</td>\n",
       "      <td>0.702534</td>\n",
       "    </tr>\n",
       "    <tr>\n",
       "      <th>12</th>\n",
       "      <td>Other theft</td>\n",
       "      <td>Investigation complete; no suspect identified</td>\n",
       "      <td>0.644389</td>\n",
       "    </tr>\n",
       "    <tr>\n",
       "      <th>11</th>\n",
       "      <td>Manchester,Greater Manchester Police</td>\n",
       "      <td>Investigation complete; no suspect identified</td>\n",
       "      <td>0.641596</td>\n",
       "    </tr>\n",
       "    <tr>\n",
       "      <th>10</th>\n",
       "      <td>Manchester</td>\n",
       "      <td>Investigation complete; no suspect identified</td>\n",
       "      <td>0.641456</td>\n",
       "    </tr>\n",
       "    <tr>\n",
       "      <th>9</th>\n",
       "      <td>Criminal damage and arson</td>\n",
       "      <td>Investigation complete; no suspect identified</td>\n",
       "      <td>0.626508</td>\n",
       "    </tr>\n",
       "    <tr>\n",
       "      <th>8</th>\n",
       "      <td>Jun,Unable to prosecute suspect</td>\n",
       "      <td>Violence and sexual offences</td>\n",
       "      <td>0.623000</td>\n",
       "    </tr>\n",
       "    <tr>\n",
       "      <th>7</th>\n",
       "      <td>May,Unable to prosecute suspect</td>\n",
       "      <td>Violence and sexual offences</td>\n",
       "      <td>0.622494</td>\n",
       "    </tr>\n",
       "    <tr>\n",
       "      <th>6</th>\n",
       "      <td>Jul,Unable to prosecute suspect</td>\n",
       "      <td>Violence and sexual offences</td>\n",
       "      <td>0.621848</td>\n",
       "    </tr>\n",
       "    <tr>\n",
       "      <th>5</th>\n",
       "      <td>Unable to prosecute suspect</td>\n",
       "      <td>Violence and sexual offences</td>\n",
       "      <td>0.621682</td>\n",
       "    </tr>\n",
       "    <tr>\n",
       "      <th>4</th>\n",
       "      <td>Mar,Unable to prosecute suspect</td>\n",
       "      <td>Violence and sexual offences</td>\n",
       "      <td>0.621251</td>\n",
       "    </tr>\n",
       "    <tr>\n",
       "      <th>3</th>\n",
       "      <td>Apr,Unable to prosecute suspect</td>\n",
       "      <td>Violence and sexual offences</td>\n",
       "      <td>0.617650</td>\n",
       "    </tr>\n",
       "    <tr>\n",
       "      <th>2</th>\n",
       "      <td>West Yorkshire Police,Unable to prosecute suspect</td>\n",
       "      <td>Violence and sexual offences</td>\n",
       "      <td>0.607760</td>\n",
       "    </tr>\n",
       "    <tr>\n",
       "      <th>1</th>\n",
       "      <td>Birmingham,West Midlands Police</td>\n",
       "      <td>Investigation complete; no suspect identified</td>\n",
       "      <td>0.606086</td>\n",
       "    </tr>\n",
       "    <tr>\n",
       "      <th>0</th>\n",
       "      <td>Birmingham</td>\n",
       "      <td>Investigation complete; no suspect identified</td>\n",
       "      <td>0.605648</td>\n",
       "    </tr>\n",
       "  </tbody>\n",
       "</table>\n",
       "</div>"
      ],
      "text/plain": [
       "                                           antecedent  \\\n",
       "16            Vehicle crime,Status update unavailable   \n",
       "15                                      Bicycle theft   \n",
       "14                                           Burglary   \n",
       "13                                      Vehicle crime   \n",
       "12                                        Other theft   \n",
       "11               Manchester,Greater Manchester Police   \n",
       "10                                         Manchester   \n",
       "9                           Criminal damage and arson   \n",
       "8                     Jun,Unable to prosecute suspect   \n",
       "7                     May,Unable to prosecute suspect   \n",
       "6                     Jul,Unable to prosecute suspect   \n",
       "5                         Unable to prosecute suspect   \n",
       "4                     Mar,Unable to prosecute suspect   \n",
       "3                     Apr,Unable to prosecute suspect   \n",
       "2   West Yorkshire Police,Unable to prosecute suspect   \n",
       "1                     Birmingham,West Midlands Police   \n",
       "0                                          Birmingham   \n",
       "\n",
       "                                       consequent  confidence  \n",
       "16                    Metropolitan Police Service    0.774634  \n",
       "15  Investigation complete; no suspect identified    0.726171  \n",
       "14  Investigation complete; no suspect identified    0.705977  \n",
       "13  Investigation complete; no suspect identified    0.702534  \n",
       "12  Investigation complete; no suspect identified    0.644389  \n",
       "11  Investigation complete; no suspect identified    0.641596  \n",
       "10  Investigation complete; no suspect identified    0.641456  \n",
       "9   Investigation complete; no suspect identified    0.626508  \n",
       "8                    Violence and sexual offences    0.623000  \n",
       "7                    Violence and sexual offences    0.622494  \n",
       "6                    Violence and sexual offences    0.621848  \n",
       "5                    Violence and sexual offences    0.621682  \n",
       "4                    Violence and sexual offences    0.621251  \n",
       "3                    Violence and sexual offences    0.617650  \n",
       "2                    Violence and sexual offences    0.607760  \n",
       "1   Investigation complete; no suspect identified    0.606086  \n",
       "0   Investigation complete; no suspect identified    0.605648  "
      ]
     },
     "execution_count": 38,
     "metadata": {},
     "output_type": "execute_result"
    }
   ],
   "source": [
    "useful_rules_df"
   ]
  },
  {
   "cell_type": "markdown",
   "metadata": {},
   "source": [
    "Now the rule with the highest confidence is **(Vehicle Crime + Status update unavailable -> Metropolitan Police Service)**. So what does this mean? This means that 77% of the time, when a Vehicle Crime occured that has no Status update about its outcome, it fell within the jurisdiction of the Metropolitan Police.\n",
    "\n",
    "The other 3 rules in the 70%+ confidence/conditional probability region follow a similar pattern.\n",
    "- **(Bicycle Theft -> Investigation complete; no suspect identified)**\n",
    "- **(Burglary -> Investigation complete; no suspect identified)**\n",
    "- **(Vehicle Crime -> Investigation complete; no suspect identified)**\n",
    "\n",
    "So, it implies that the probability of no suspect being identified after a bike theft, burglary or vehicle crime is about 70-72%.\n",
    "\n",
    "Another interesting rule is **(Manchester -> Investigation complete; no suspect identified)** with a probability of 64%. Good thing I have never been to Manchester!\n",
    "\n",
    "Another block of these rules is **(Unable to prosecute suspect -> Violence and sexual offences)**, which sounds worrying but doesn't really say much. The conditional probability of a crime being a violence and sexual offence, given that you were unable to prosecute the suspect is around 62%."
   ]
  }
 ],
 "metadata": {
  "kernelspec": {
   "display_name": "Python 3",
   "language": "python",
   "name": "python3"
  },
  "language_info": {
   "codemirror_mode": {
    "name": "ipython",
    "version": 3
   },
   "file_extension": ".py",
   "mimetype": "text/x-python",
   "name": "python",
   "nbconvert_exporter": "python",
   "pygments_lexer": "ipython3",
   "version": "3.6.5"
  }
 },
 "nbformat": 4,
 "nbformat_minor": 2
}
